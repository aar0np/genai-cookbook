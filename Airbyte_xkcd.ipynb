{
  "cells": [
    {
      "cell_type": "markdown",
      "metadata": {
        "colab_type": "text",
        "id": "view-in-github"
      },
      "source": [
        "<a href=\"https://colab.research.google.com/github/datastax/genai-cookbook/blob/main/Airbyte_xkcd.ipynb\" target=\"_parent\"><img src=\"https://colab.research.google.com/assets/colab-badge.svg\" alt=\"Open In Colab\"/></a>"
      ]
    },
    {
      "cell_type": "markdown",
      "metadata": {
        "id": "f8eKJ0oIkWDw"
      },
      "source": [
        "# Querying an Astra DB collection with an Airbyte Cloud data pipeline.\n",
        "\n",
        "This notebook will walk through how to build a simple application using a data pipeline from Airbyte Cloud. Our Airbyte Cloud pipeline will pull data from the XKCD API, and store it in Astra DB. Our application will then be able to run similarity searches on the vector embeddings to bring back data on the most-similar XKCD comic.\n",
        "\n",
        "This notebook is a companion to this blog post: [Airbyte and DataStax simplify GenAI and RAG app development](https://www.datastax.com/blog/airbyte-and-datastax-simplify-genai-and-rag-app-development)",
        "\n",
        "Requirements:\n",
        "*   A free account and vector database with [Astra DB](https://astra.datastax.com).\n",
        "*   A free account with [Airbyte](https://www.airbyte.com), and an Airbyte Cloud pipeline that has synchronized data into Astra DB.\n",
        "*   An [OpenAI](https://openai.com/) API key.\n",
        "\n",
        "## Setup\n",
        "\n",
        "Install the DataStax RAGStack and Matplotlib libraries."
      ]
    },
    {
      "cell_type": "code",
      "execution_count": null,
      "metadata": {
        "colab": {
          "base_uri": "https://localhost:8080/"
        },
        "id": "rzObDtoguSEu",
        "outputId": "5e7706a0-dd93-48cd-a370-85c1062c5c85"
      },
      "outputs": [],
      "source": [
        "!pip install ragstack-ai matplotlib"
      ]
    },
    {
      "cell_type": "markdown",
      "metadata": {
        "id": "nJYcLdVNzH8p"
      },
      "source": [
        "## Library Imports"
      ]
    },
    {
      "cell_type": "code",
      "execution_count": 25,
      "metadata": {
        "id": "xWeydWiRzBpV"
      },
      "outputs": [],
      "source": [
        "from astrapy.db import AstraDB\n",
        "from langchain_openai import OpenAIEmbeddings\n",
        "from getpass import getpass\n",
        "from PIL import Image\n",
        "from matplotlib import image as mpimg\n",
        "from matplotlib import pyplot as plt\n",
        "from urllib.request import urlopen"
      ]
    },
    {
      "cell_type": "markdown",
      "metadata": {
        "id": "m762OesnuYte"
      },
      "source": [
        "## Environment Variables"
      ]
    },
    {
      "cell_type": "code",
      "execution_count": null,
      "metadata": {
        "colab": {
          "base_uri": "https://localhost:8080/"
        },
        "id": "mPt3mo6jvVB1",
        "outputId": "b310721a-92f0-4576-bee0-8eb4881e1507"
      },
      "outputs": [],
      "source": [
        "ASTRA_DB_APPLICATION_TOKEN = getpass('Your Astra DB Token (\"AstraCS:...\"): ')"
      ]
    },
    {
      "cell_type": "code",
      "execution_count": null,
      "metadata": {
        "colab": {
          "base_uri": "https://localhost:8080/"
        },
        "id": "Pd14jb59vky0",
        "outputId": "e185619f-ef45-4175-c068-ce86525a1c60"
      },
      "outputs": [],
      "source": [
        "ASTRA_DB_API_ENDPOINT = input('Your Astra DB API endpoint: ')\n",
        "ASTRA_DB_KEYSPACE_NAME='default_keyspace'\n",
        "ASTRA_DB_COLLECTION_NAME='airbyte'"
      ]
    },
    {
      "cell_type": "code",
      "execution_count": null,
      "metadata": {
        "colab": {
          "base_uri": "https://localhost:8080/"
        },
        "id": "ifDiIQc-vjGZ",
        "outputId": "8592f300-73e5-4c48-b504-367aec4915ed"
      },
      "outputs": [],
      "source": [
        "OPENAI_API_KEY = getpass('Your OpenAI API Key (\"sk-...\"): ')"
      ]
    },
    {
      "cell_type": "markdown",
      "metadata": {
        "id": "yxpz6G3PwYhM"
      },
      "source": [
        "## Define the OpenAI \"text-embedding-ada-002\" embedding model."
      ]
    },
    {
      "cell_type": "code",
      "execution_count": 8,
      "metadata": {
        "id": "ZVyVbUfTwmeY"
      },
      "outputs": [],
      "source": [
        "model = OpenAIEmbeddings(openai_api_key=OPENAI_API_KEY)"
      ]
    },
    {
      "cell_type": "markdown",
      "metadata": {
        "id": "WJxxc4gDwp1J"
      },
      "source": [
        "## Connect to Astra DB"
      ]
    },
    {
      "cell_type": "code",
      "execution_count": 10,
      "metadata": {
        "id": "2zavzZBiwsqh"
      },
      "outputs": [],
      "source": [
        "db = AstraDB(\n",
        "    token=ASTRA_DB_APPLICATION_TOKEN,\n",
        "    api_endpoint=ASTRA_DB_API_ENDPOINT,\n",
        "    namespace=ASTRA_DB_KEYSPACE_NAME,\n",
        ")\n",
        "collection = db.collection(ASTRA_DB_COLLECTION_NAME)"
      ]
    },
    {
      "cell_type": "markdown",
      "metadata": {
        "id": "zXrXV2vCw2v0"
      },
      "source": [
        "## Define your query"
      ]
    },
    {
      "cell_type": "code",
      "execution_count": null,
      "metadata": {
        "colab": {
          "base_uri": "https://localhost:8080/"
        },
        "id": "4W0nTL-ow5n9",
        "outputId": "017515a4-5768-48cc-f115-6ec452127ed9"
      },
      "outputs": [],
      "source": [
        "query = input('Enter your query (\"Kepler\" is the default): ')\n",
        "\n",
        "if query == \"\":\n",
        "  query = \"Kepler\""
      ]
    },
    {
      "cell_type": "markdown",
      "metadata": {
        "id": "xrdyGlIAxNVp"
      },
      "source": [
        "## Generate a vector embedding of your query's text"
      ]
    },
    {
      "cell_type": "code",
      "execution_count": null,
      "metadata": {
        "colab": {
          "base_uri": "https://localhost:8080/"
        },
        "id": "F_ChOMTjxR0Z",
        "outputId": "cd5bc427-c635-4575-ca9f-6d3f3de7f954"
      },
      "outputs": [],
      "source": [
        "print(f'query=\"{query}\"')\n",
        "vector = model.embed_query(query)\n",
        "print(f'vector=\"{vector}\"')"
      ]
    },
    {
      "cell_type": "markdown",
      "metadata": {
        "id": "XfeJNR78xeQk"
      },
      "source": [
        "## Store and print the result\n",
        "Be sure that you have run the Airbyte Cloud data pipeline to load data from the XKCD API into Astra DB, first!"
      ]
    },
    {
      "cell_type": "code",
      "execution_count": null,
      "metadata": {
        "colab": {
          "base_uri": "https://localhost:8080/"
        },
        "id": "5Gg83lmFxX5l",
        "outputId": "ed08c75d-d398-4216-ae27-57d4f67615b2"
      },
      "outputs": [],
      "source": [
        "result = collection.vector_find_one(vector,fields=['title','img','alt'])\n",
        "\n",
        "print(result)"
      ]
    },
    {
      "cell_type": "markdown",
      "metadata": {
        "id": "1jGyhFzO0j5U"
      },
      "source": [
        "## Display the xkcd webcomic"
      ]
    },
    {
      "cell_type": "code",
      "execution_count": null,
      "metadata": {
        "colab": {
          "base_uri": "https://localhost:8080/",
          "height": 469
        },
        "id": "DV6QzTYL0n7I",
        "outputId": "fcedb622-20e6-48e5-cce7-09312f523d38"
      },
      "outputs": [],
      "source": [
        "plt.title(result['title'])\n",
        "pil_image = Image.open(urlopen(result['img']))\n",
        "plt.imshow(pil_image)\n",
        "plt.show()\n",
        "print(result['alt'])"
      ]
    }
  ],
  "metadata": {
    "colab": {
      "authorship_tag": "ABX9TyOq96sYRUWKEzO5UDQuKrOs",
      "include_colab_link": true,
      "provenance": []
    },
    "kernelspec": {
      "display_name": "Python 3",
      "name": "python3"
    },
    "language_info": {
      "name": "python"
    }
  },
  "nbformat": 4,
  "nbformat_minor": 0
}
