{
 "cells": [
  {
   "cell_type": "markdown",
   "metadata": {},
   "source": [
    "# Using Haystack and the Astra DB integration to build a simple Star Wars RAG\n",
    "\n",
    "Author: [Carter Rabasa](https://github.com/crtr0)\n",
    "\n",
    "Blog Post: [datastax.com/blog/using-genai-to-find-a-needle-with-haystack-and-astra-db](https://www.datastax.com/blog/using-genai-to-find-a-needle-with-haystack-and-astra-db)"
   ]
  },
  {
   "cell_type": "markdown",
   "metadata": {},
   "source": [
    "## Setup"
   ]
  },
  {
   "cell_type": "code",
   "execution_count": null,
   "metadata": {},
   "outputs": [],
   "source": [
    "!pip install astra-haystack sentence-transformers"
   ]
  },
  {
   "cell_type": "markdown",
   "metadata": {},
   "source": [
    "## Loading data using the Astra DB DocumentStore"
   ]
  },
  {
   "cell_type": "code",
   "execution_count": null,
   "metadata": {},
   "outputs": [],
   "source": [
    "import logging\n",
    "import os\n",
    "from getpass import getpass \n",
    "from haystack import Pipeline\n",
    "from haystack.components.fetchers import LinkContentFetcher\n",
    "from haystack.components.converters import HTMLToDocument\n",
    "from haystack.components.writers import DocumentWriter\n",
    "from haystack.components.preprocessors import DocumentSplitter\n",
    "from haystack.components.embedders import SentenceTransformersDocumentEmbedder\n",
    "from haystack.document_stores.types import DuplicatePolicy\n",
    "from haystack_integrations.document_stores.astra import AstraDocumentStore\n",
    "\n",
    "os.environ[\"ASTRA_DB_API_ENDPOINT\"] = getpass(\"Astra DB API Endpoint:\")\n",
    "os.environ[\"ASTRA_DB_APPLICATION_TOKEN\"] = getpass(\"Astra DB Application Token:\")\n",
    "\n",
    "logger = logging.getLogger(__name__)\n",
    "logging.basicConfig(level=logging.INFO)\n",
    "\n",
    "fetcher = LinkContentFetcher()\n",
    "\n",
    "converter = HTMLToDocument()\n",
    "\n",
    "splitter = DocumentSplitter(split_by=\"word\", split_length=50)\n",
    "\n",
    "embedding_model_name = \"sentence-transformers/all-MiniLM-L6-v2\"\n",
    "\n",
    "document_store = AstraDocumentStore(\n",
    "    duplicates_policy=DuplicatePolicy.SKIP,\n",
    "    embedding_dimension=384,\n",
    "    collection_name=\"starwars\"\n",
    ")\n",
    "\n",
    "index_pipeline = Pipeline()\n",
    "\n",
    "index_pipeline.add_component(\n",
    "    instance=SentenceTransformersDocumentEmbedder(model=embedding_model_name),\n",
    "    name=\"embedder\",\n",
    ")\n",
    "\n",
    "index_pipeline.add_component(instance=fetcher, name=\"fetcher\")\n",
    "\n",
    "index_pipeline.add_component(instance=converter, name=\"converter\")\n",
    "\n",
    "index_pipeline.add_component(instance=splitter, name=\"splitter\")\n",
    "\n",
    "index_pipeline.add_component(instance=DocumentWriter(document_store=document_store, policy=DuplicatePolicy.SKIP), name=\"writer\")\n",
    "\n",
    "index_pipeline.connect(\"fetcher.streams\", \"converter.sources\")\n",
    "\n",
    "index_pipeline.connect(\"converter.documents\", \"splitter.documents\")\n",
    "\n",
    "index_pipeline.connect(\"splitter.documents\", \"embedder.documents\")\n",
    "\n",
    "index_pipeline.connect(\"embedder.documents\", \"writer.documents\")\n",
    "\n",
    "index_pipeline.run(data={\"fetcher\": {\"urls\": [\"https://en.wikipedia.org/wiki/Star_Wars\"]}})\n",
    "\n",
    "print(document_store.count_documents())"
   ]
  },
  {
   "cell_type": "markdown",
   "metadata": {},
   "source": [
    "## Running a simple RAG using the data stored"
   ]
  },
  {
   "cell_type": "code",
   "execution_count": null,
   "metadata": {},
   "outputs": [],
   "source": [
    "import os\n",
    "from getpass import getpass \n",
    "from haystack import Pipeline\n",
    "from haystack.components.embedders import SentenceTransformersTextEmbedder\n",
    "from haystack.components.builders.answer_builder import AnswerBuilder\n",
    "from haystack.components.builders.prompt_builder import PromptBuilder\n",
    "from haystack.components.generators import OpenAIGenerator\n",
    "from haystack_integrations.document_stores.astra import AstraDocumentStore\n",
    "from haystack_integrations.components.retrievers.astra import AstraEmbeddingRetriever\n",
    "\n",
    "os.environ[\"ASTRA_DB_API_ENDPOINT\"] = getpass(\"Astra DB API Endpoint:\")\n",
    "os.environ[\"ASTRA_DB_APPLICATION_TOKEN\"] = getpass(\"Astra DB Application Token:\")\n",
    "os.environ[\"OPENAI_API_KEY\"] = getpass(\"OpenAI API Key:\")\n",
    "os.environ[\"TOKENIZERS_PARALLELISM\"] = \"false\"\n",
    "\n",
    "embedding_model_name = \"sentence-transformers/all-MiniLM-L6-v2\"\n",
    "\n",
    "prompt_template = \"\"\"\n",
    "                Given these documents, answer the question.\n",
    "                Documents:\n",
    "                {% for doc in documents %}\n",
    "                    {{ doc.content }}\n",
    "                {% endfor %}\n",
    "                Question: {{question}}\n",
    "                Answer:\n",
    "                \"\"\"\n",
    "\n",
    "document_store = AstraDocumentStore(\n",
    "    embedding_dimension=384,\n",
    "    collection_name=\"starwars\"\n",
    ")\n",
    "\n",
    "rag_pipeline = Pipeline()\n",
    "rag_pipeline.add_component(\n",
    "    instance=SentenceTransformersTextEmbedder(model=embedding_model_name),\n",
    "    name=\"embedder\",\n",
    ")\n",
    "rag_pipeline.add_component(instance=AstraEmbeddingRetriever(document_store=document_store), name=\"retriever\")\n",
    "rag_pipeline.add_component(instance=PromptBuilder(template=prompt_template), name=\"prompt_builder\")\n",
    "rag_pipeline.add_component(instance=OpenAIGenerator(), name=\"llm\")\n",
    "rag_pipeline.add_component(instance=AnswerBuilder(), name=\"answer_builder\")\n",
    "rag_pipeline.connect(\"embedder\", \"retriever\")\n",
    "rag_pipeline.connect(\"retriever\", \"prompt_builder.documents\")\n",
    "rag_pipeline.connect(\"prompt_builder\", \"llm\")\n",
    "rag_pipeline.connect(\"llm.replies\", \"answer_builder.replies\")\n",
    "rag_pipeline.connect(\"llm.meta\", \"answer_builder.meta\")\n",
    "rag_pipeline.connect(\"retriever\", \"answer_builder.documents\")\n",
    "\n",
    "# Run the pipeline\n",
    "question = \"Who is Luke's sister?\"\n",
    "result = rag_pipeline.run(\n",
    "    {\n",
    "        \"embedder\": {\"text\": question},\n",
    "        \"retriever\": {\"top_k\": 2},\n",
    "        \"prompt_builder\": {\"question\": question},\n",
    "        \"answer_builder\": {\"query\": question},\n",
    "    }\n",
    ")\n",
    "\n",
    "print(result)"
   ]
  }
 ],
 "metadata": {
  "kernelspec": {
   "display_name": "Python 3",
   "language": "python",
   "name": "python3"
  },
  "language_info": {
   "codemirror_mode": {
    "name": "ipython",
    "version": 3
   },
   "file_extension": ".py",
   "mimetype": "text/x-python",
   "name": "python",
   "nbconvert_exporter": "python",
   "pygments_lexer": "ipython3",
   "version": "3.12.1"
  }
 },
 "nbformat": 4,
 "nbformat_minor": 2
}
